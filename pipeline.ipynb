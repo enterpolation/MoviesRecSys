{
 "cells": [
  {
   "cell_type": "markdown",
   "id": "589bcd30",
   "metadata": {},
   "source": [
    "## Зависимости"
   ]
  },
  {
   "cell_type": "code",
   "execution_count": 1,
   "id": "81c4f50e",
   "metadata": {},
   "outputs": [],
   "source": [
    "import time\n",
    "import warnings\n",
    "\n",
    "warnings.simplefilter(\"ignore\")\n",
    "\n",
    "import numpy as np\n",
    "import pandas as pd\n",
    "\n",
    "import matplotlib.pyplot as plt\n",
    "\n",
    "from tqdm.notebook import tqdm\n",
    "from IPython.display import clear_output\n",
    "\n",
    "import torch\n",
    "import torch.nn as nn\n",
    "import torch.optim as optim\n",
    "from torch.utils.data import Dataset, DataLoader\n",
    "from torchvision import transforms\n",
    "\n",
    "from sklearn.model_selection import train_test_split"
   ]
  },
  {
   "cell_type": "markdown",
   "id": "af5ad480",
   "metadata": {},
   "source": [
    "## Константы"
   ]
  },
  {
   "cell_type": "code",
   "execution_count": 2,
   "id": "c9cb0072",
   "metadata": {},
   "outputs": [],
   "source": [
    "PATH_TO_DATA: str = \"ml-latest/ratings.csv\"\n",
    "TEST_SIZE: float = 0.2\n",
    "\n",
    "EMBEDDING_DIM: int = 128\n",
    "\n",
    "DEVICE: str = \"cuda\" if torch.cuda.is_available() else \"cpu\"\n",
    "\n",
    "BATCH_SIZE: int = 8196\n",
    "LEARNING_RATE: float = 1e-2\n",
    "\n",
    "NUM_EPOCHS: int = 5"
   ]
  },
  {
   "cell_type": "markdown",
   "id": "0188959a",
   "metadata": {},
   "source": [
    "## Подготовка данных"
   ]
  },
  {
   "cell_type": "markdown",
   "id": "bfc0dcc7",
   "metadata": {},
   "source": [
    "Будем использовать таблицу `ratings.csv`. Для простоты будем считать, что если пользователь не оценивал фильм, то рейтинг будет равен 0. Также необходимо переобозначить идентификаторы фильмов и пользователей, т.к. некоторые из них отсутствуют."
   ]
  },
  {
   "cell_type": "code",
   "execution_count": 3,
   "id": "bbeaf868",
   "metadata": {},
   "outputs": [],
   "source": [
    "class MovieDataset(Dataset):\n",
    "    def __init__(self, dataframe: pd.DataFrame):\n",
    "        # Fill nans with zeros\n",
    "        data = dataframe.fillna(0)\n",
    "        ratings = data[\"rating\"]\n",
    "\n",
    "        # Re-label users ids from 0 to number of unique users\n",
    "        unique_users = data[\"userId\"].unique()\n",
    "        user_to_index = {old: new for new, old in enumerate(unique_users)}\n",
    "        new_users = data[\"userId\"].map(user_to_index)\n",
    "\n",
    "        # Re-label movies ids from 0 to number of movies users\n",
    "        unique_movies = data[\"movieId\"].unique()\n",
    "        movie_to_index = {old: new for new, old in enumerate(unique_movies)}\n",
    "        new_movies = data[\"movieId\"].map(movie_to_index)\n",
    "\n",
    "        # Re-labeled dataframe\n",
    "        self.x = pd.DataFrame(\n",
    "            {\"userId\": new_users, \"movieId\": new_movies, \"rating\": ratings}\n",
    "        )\n",
    "\n",
    "    def __len__(self) -> int:\n",
    "        return len(self.x)\n",
    "\n",
    "    def __getitem__(self, idx: int) -> (np.int, np.int, np.float32):\n",
    "        return (\n",
    "            self.x[\"userId\"].iloc[idx].astype(np.int),\n",
    "            self.x[\"movieId\"].iloc[idx].astype(np.int),\n",
    "            self.x[\"rating\"].iloc[idx].astype(np.float32),\n",
    "        )"
   ]
  },
  {
   "cell_type": "markdown",
   "id": "56dc097e",
   "metadata": {},
   "source": [
    "## Модель"
   ]
  },
  {
   "cell_type": "markdown",
   "id": "a9c5bcd5",
   "metadata": {},
   "source": [
    "Мы решаем задачу регрессии. Есть эмбеддинг фильма и эмбеддинг пользователя, по ним нужно предсказать рейтинг. В качестве функции потерь и метрики будем использовать `torch.nn.MSELoss`. Для формирования эмбеддингов будем использовать слой `torch.nn.Embedding`. Далее, путем конкатенации, объединяем эмбеддинг пользователя и эмбеддинг фильма. Затем добавляем слой `torch.nn.Dropout` для предотвращения переобучения и линейный слой `torch.nn.Linear` для решения задачи регресии. "
   ]
  },
  {
   "cell_type": "code",
   "execution_count": 4,
   "id": "abfd7830",
   "metadata": {},
   "outputs": [],
   "source": [
    "class Embedder(nn.Module):\n",
    "    def __init__(self, n_users: int, n_movies: int, embedding_dim: int):\n",
    "        super().__init__()\n",
    "\n",
    "        self.n_users = n_users\n",
    "        self.n_movies = n_movies\n",
    "\n",
    "        self.emb_u = nn.Embedding(self.n_users, embedding_dim)\n",
    "        self.emb_m = nn.Embedding(self.n_movies, embedding_dim)\n",
    "\n",
    "        self.dropout = nn.Dropout(p=0.1)\n",
    "\n",
    "        self.fc = nn.Linear(embedding_dim * 2, 1)\n",
    "\n",
    "    def forward(\n",
    "        self, users: torch.Tensor, movies: torch.Tensor\n",
    "    ) -> torch.Tensor:\n",
    "        x_u = self.emb_u(users)\n",
    "        x_m = self.emb_m(movies)\n",
    "\n",
    "        x = torch.cat([x_u, x_m], dim=1)\n",
    "        output = self.fc(self.dropout(x))\n",
    "\n",
    "        return output"
   ]
  },
  {
   "cell_type": "markdown",
   "id": "bcbc77b0",
   "metadata": {},
   "source": [
    "## Обучение и валидация"
   ]
  },
  {
   "cell_type": "code",
   "execution_count": 5,
   "id": "02c9b6e3",
   "metadata": {},
   "outputs": [],
   "source": [
    "def train(\n",
    "    model: nn.Module,\n",
    "    criterion: nn.Module,\n",
    "    optimizer: optim,\n",
    "    train_dataloader: DataLoader,\n",
    "    val_dataloader: DataLoader,\n",
    "    num_epochs: int,\n",
    "    device: str,\n",
    "    plotting: bool = True,\n",
    ") -> (list, list):\n",
    "\n",
    "    train_losses = []\n",
    "    val_losses = []\n",
    "\n",
    "    for epoch in range(num_epochs):\n",
    "        start = time.time()\n",
    "        \n",
    "        train_running_loss = 0\n",
    "        val_running_loss = 0\n",
    "\n",
    "        # Train loop\n",
    "        model.train()\n",
    "        for users, movies, ratings in train_dataloader:\n",
    "            # Send data to device\n",
    "            users, movies, ratings = (\n",
    "                users.to(device),\n",
    "                movies.to(device),\n",
    "                ratings.to(device),\n",
    "            )\n",
    "\n",
    "            out = model(users, movies)\n",
    "\n",
    "            # Count loss\n",
    "            loss = criterion(out, ratings)\n",
    "\n",
    "            # Backpropagation\n",
    "            optimizer.zero_grad()\n",
    "            loss.backward()\n",
    "            optimizer.step()\n",
    "\n",
    "            train_running_loss += loss.item()\n",
    "\n",
    "        # Evaluation loop\n",
    "        model.eval()\n",
    "        for users, movies, ratings in val_dataloader:\n",
    "            # Send data to device\n",
    "            users, movies, ratings = (\n",
    "                users.to(device),\n",
    "                movies.to(device),\n",
    "                ratings.to(device),\n",
    "            )\n",
    "\n",
    "            # Don't need gradients on evaluation\n",
    "            with torch.no_grad():\n",
    "                out = model(users, movies)\n",
    "\n",
    "            # Count validation loss\n",
    "            loss = criterion(out, ratings)\n",
    "            val_running_loss += loss.item()\n",
    "\n",
    "        # Save losses\n",
    "        epoch_train_loss = np.sqrt(train_running_loss / len(train_dataloader))\n",
    "        epoch_val_loss = np.sqrt(val_running_loss / len(val_dataloader))\n",
    "\n",
    "        train_losses.append(epoch_train_loss)\n",
    "        val_losses.append(epoch_val_loss)\n",
    "\n",
    "        # Plotting\n",
    "        if plotting:\n",
    "            plt.title(\"Loss history\")\n",
    "            plt.plot(train_losses, label=\"train\")\n",
    "            plt.plot(val_losses, label=\"validation\")\n",
    "            plt.xlabel(\"epoch\")\n",
    "            plt.ylabel(\"loss\")\n",
    "            plt.grid()\n",
    "            plt.legend()\n",
    "            plt.show()\n",
    "\n",
    "        # Logging\n",
    "        end = time.time()\n",
    "        \n",
    "        print(\n",
    "            f\"Epoch №{epoch} | \"\n",
    "            f\"Train RMSE: {epoch_train_loss:.4f} | \"\n",
    "            f\"Validation RMSE: {epoch_val_loss:.4f} | \"\n",
    "            f\"Time: {end - start:.4f} seconds\"\n",
    "        )\n",
    "\n",
    "        clear_output(wait=True)\n",
    "\n",
    "    return train_losses, val_losses"
   ]
  },
  {
   "cell_type": "code",
   "execution_count": 6,
   "id": "2662fd3f",
   "metadata": {},
   "outputs": [
    {
     "data": {
      "image/png": "[encoded data removed]",
      "text/plain": [
       "<Figure size 432x288 with 1 Axes>"
      ]
     },
     "metadata": {
      "needs_background": "light"
     },
     "output_type": "display_data"
    },
    {
     "name": "stdout",
     "output_type": "stream",
     "text": [
      "Epoch №4 | Train RMSE: 1.0663 | Validation RMSE: 1.0668 | Time: 1014.2305 seconds\n"
     ]
    }
   ],
   "source": [
    "def main() -> None:\n",
    "    # Read data\n",
    "    data = pd.read_csv(PATH_TO_DATA)\n",
    "\n",
    "    # Count number of unique users and movies\n",
    "    n_users = len(data[\"userId\"].unique())\n",
    "    n_movies = len(data[\"movieId\"].unique())\n",
    "\n",
    "    # Train-validation split\n",
    "    train_data, val_data = train_test_split(\n",
    "        data, test_size=TEST_SIZE, random_state=42\n",
    "    )\n",
    "\n",
    "    # Datasets and dataloaders\n",
    "    train_dataset = MovieDataset(dataframe=train_data)\n",
    "    train_dataloader = DataLoader(\n",
    "        train_dataset, batch_size=BATCH_SIZE, shuffle=True\n",
    "    )\n",
    "\n",
    "    val_dataset = MovieDataset(dataframe=val_data)\n",
    "    val_dataloader = DataLoader(\n",
    "        val_dataset, batch_size=BATCH_SIZE, shuffle=False\n",
    "    )\n",
    "\n",
    "    # Model, loss function and optimizer\n",
    "    model = Embedder(n_users, n_movies, embedding_dim=EMBEDDING_DIM).to(DEVICE)\n",
    "    criterion = nn.MSELoss(reduction=\"mean\")\n",
    "    optimizer = optim.Adam(model.parameters(), lr=LEARNING_RATE)\n",
    "\n",
    "    # Train & evaluate\n",
    "    _, _ = train(\n",
    "        model=model,\n",
    "        criterion=criterion,\n",
    "        optimizer=optimizer,\n",
    "        train_dataloader=train_dataloader,\n",
    "        val_dataloader=val_dataloader,\n",
    "        num_epochs=NUM_EPOCHS,\n",
    "        device=DEVICE,\n",
    "        plotting=True,\n",
    "    )\n",
    "\n",
    "\n",
    "if __name__ == \"__main__\":\n",
    "    main()"
   ]
  },
  {
   "cell_type": "code",
   "execution_count": null,
   "id": "c730439c",
   "metadata": {},
   "outputs": [],
   "source": []
  }
 ],
 "metadata": {
  "kernelspec": {
   "display_name": "Python 3 (ipykernel)",
   "language": "python",
   "name": "python3"
  },
  "language_info": {
   "codemirror_mode": {
    "name": "ipython",
    "version": 3
   },
   "file_extension": ".py",
   "mimetype": "text/x-python",
   "name": "python",
   "nbconvert_exporter": "python",
   "pygments_lexer": "ipython3",
   "version": "3.9.6"
  },
  "toc": {
   "base_numbering": 1,
   "nav_menu": {},
   "number_sections": true,
   "sideBar": true,
   "skip_h1_title": false,
   "title_cell": "Table of Contents",
   "title_sidebar": "Contents",
   "toc_cell": false,
   "toc_position": {},
   "toc_section_display": true,
   "toc_window_display": false
  }
 },
 "nbformat": 4,
 "nbformat_minor": 5
}
